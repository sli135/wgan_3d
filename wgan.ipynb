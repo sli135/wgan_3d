{
 "cells": [
  {
   "cell_type": "code",
   "execution_count": null,
   "id": "492e4b13-9f8f-4cf0-9069-ec71a95eda46",
   "metadata": {},
   "outputs": [],
   "source": [
    "%%time\n",
    "%run train_new_tensor.py"
   ]
  },
  {
   "cell_type": "code",
   "execution_count": 25,
   "id": "64d3dabd-94ec-4ba6-871b-b544c11c1bca",
   "metadata": {},
   "outputs": [
    {
     "data": {
      "text/plain": [
       "array([[ 1.43860877e-02,  4.09283638e-02, -9.13066324e-04, ...,\n",
       "         1.15504086e-01, -1.15694935e-02,  2.64570974e-02],\n",
       "       [ 7.32890004e-03, -2.29713842e-02,  1.03933111e-01, ...,\n",
       "         2.43321687e-01,  7.02231703e-03,  7.74072632e-02],\n",
       "       [ 9.70708206e-05, -6.14644727e-03,  1.47814721e-01, ...,\n",
       "         2.03988060e-01, -3.82122281e-03,  5.91285713e-02],\n",
       "       ...,\n",
       "       [ 4.62027965e-03, -1.16654625e-02,  1.42371759e-01, ...,\n",
       "         2.20877886e-01,  2.64324360e-02,  6.72139302e-02],\n",
       "       [ 3.32425945e-02, -9.68654919e-03,  1.00579895e-01, ...,\n",
       "         2.12173060e-01,  2.93602515e-02,  5.84427118e-02],\n",
       "       [-7.16719951e-04, -1.28799854e-02,  1.49917111e-01, ...,\n",
       "         8.36363584e-02,  4.38019186e-02,  5.66060543e-02]], dtype=float32)"
      ]
     },
     "execution_count": 25,
     "metadata": {},
     "output_type": "execute_result"
    }
   ],
   "source": [
    "gen_videos[0].detach().numpy().reshape(98,350)"
   ]
  },
  {
   "cell_type": "code",
   "execution_count": 26,
   "id": "54dff119-977f-4df8-9926-f1fb8279ee96",
   "metadata": {},
   "outputs": [
    {
     "data": {
      "text/plain": [
       "<Figure size 432x288 with 0 Axes>"
      ]
     },
     "metadata": {},
     "output_type": "display_data"
    }
   ],
   "source": [
    "save_fig(gen_videos[0].detach().numpy().reshape(98,350),epoch,\"./genvideos/\")"
   ]
  },
  {
   "cell_type": "code",
   "execution_count": null,
   "id": "ba92c804-adb1-4df7-b429-7cd1d127ea17",
   "metadata": {},
   "outputs": [],
   "source": [
    "%%time\n",
    "%run train_new_tensor.py -e 2 -checkpoint \"./checkpoints/\""
   ]
  },
  {
   "cell_type": "code",
   "execution_count": null,
   "id": "645e37b0-e889-47e3-80bc-e3b773a0410a",
   "metadata": {},
   "outputs": [],
   "source": [
    "import torch\n",
    "import torch.nn as nn\n",
    "import torch.nn.init as init\n",
    "import torch.nn.functional as F\n",
    "import torch.optim as optim\n",
    "from torch.autograd import Variable\n",
    "from torch.autograd import grad as torch_grad\n",
    "from torchvision.utils import make_grid\n",
    "import imageio\n",
    "import os\n",
    "import scipy.misc\n",
    "import numpy as np\n",
    "import glob\n",
    "#from utils import *\n",
    "import sys\n",
    "from argparse import ArgumentParser\n",
    "from datetime import datetime\n",
    "from random import shuffle\n",
    "import matplotlib.pyplot as plt\n",
    "#from skimage.transform import resize\n",
    "\n",
    "import batchgenerator as bg "
   ]
  },
  {
   "cell_type": "code",
   "execution_count": null,
   "id": "e2d1df3b-865f-442d-bcc2-b5ac23f332e6",
   "metadata": {},
   "outputs": [],
   "source": []
  }
 ],
 "metadata": {
  "kernelspec": {
   "display_name": "Python 3",
   "language": "python",
   "name": "python3"
  },
  "language_info": {
   "codemirror_mode": {
    "name": "ipython",
    "version": 3
   },
   "file_extension": ".py",
   "mimetype": "text/x-python",
   "name": "python",
   "nbconvert_exporter": "python",
   "pygments_lexer": "ipython3",
   "version": "3.8.12"
  }
 },
 "nbformat": 4,
 "nbformat_minor": 5
}
